{
 "cells": [
  {
   "cell_type": "code",
   "execution_count": null,
   "id": "68102bfb-0176-4b62-b458-c798aa678be9",
   "metadata": {},
   "outputs": [],
   "source": [
    "TOPIC: Python Basics Variable"
   ]
  },
  {
   "cell_type": "raw",
   "id": "c39bf6b1-0989-4188-90ea-82730f00d638",
   "metadata": {},
   "source": [
    "1. Declare two variables, `x` and `y`, and assign them integer values.\n",
    "Swap the values of these variables without using any temporary\n",
    "variable."
   ]
  },
  {
   "cell_type": "code",
   "execution_count": 22,
   "id": "8e387505-1baf-4bf9-865a-345b6fb88b5a",
   "metadata": {},
   "outputs": [
    {
     "name": "stdout",
     "output_type": "stream",
     "text": [
      "After Swapping Value of X is  40\n",
      "After Swapping Value of Y is  30\n"
     ]
    }
   ],
   "source": [
    "x = 30\n",
    "y = 40\n",
    "x = x+y\n",
    "y = x-y\n",
    "x = x-y\n",
    "print(\"After Swapping Value of X is \",x)\n",
    "print(\"After Swapping Value of Y is \",y)"
   ]
  },
  {
   "cell_type": "raw",
   "id": "1a2bb5bc-e11d-46cf-8c36-761ed03f3184",
   "metadata": {},
   "source": [
    "2. Create a program that calculates the area of a rectangle. Take the\n",
    "length and width as inputs from the user and store them in variables.\n",
    "Calculate and display the area."
   ]
  },
  {
   "cell_type": "code",
   "execution_count": 24,
   "id": "21dadf4d-1492-4ed8-815d-dc03fd643000",
   "metadata": {},
   "outputs": [
    {
     "name": "stdin",
     "output_type": "stream",
     "text": [
      "Enter the Lenght 23.6\n",
      "Enter the Width 34.7\n"
     ]
    },
    {
     "name": "stdout",
     "output_type": "stream",
     "text": [
      "The Area of the Rectangle is:  818.9200000000001\n"
     ]
    }
   ],
   "source": [
    "lenght = float(input(\"Enter the Lenght\"))\n",
    "width = float(input(\"Enter the Width\"))\n",
    "area = lenght * width\n",
    "print(\"The Area of the Rectangle is: \",area)"
   ]
  },
  {
   "cell_type": "raw",
   "id": "f88a7ae7-f210-4895-a984-d7b513a7da13",
   "metadata": {},
   "source": [
    "3. Write a Python program that converts temperature from Celsius to\n",
    "Fahrenheit. Take the temperature in Celsius as input, store it in a\n",
    "variable, convert it to Fahrenheit, and display the result."
   ]
  },
  {
   "cell_type": "code",
   "execution_count": 7,
   "id": "b58b3dd2-3110-4988-b630-6206f10e6c35",
   "metadata": {},
   "outputs": [
    {
     "name": "stdin",
     "output_type": "stream",
     "text": [
      "Enter the Degree Celsius 20\n"
     ]
    },
    {
     "name": "stdout",
     "output_type": "stream",
     "text": [
      "After Conversion into Fahrenheit the value is : 68.0\n"
     ]
    }
   ],
   "source": [
    "c = float(input(\"Enter the Degree Celsius\"))\n",
    "f = (c*(9/5)) + 32\n",
    "print(\"After Conversion into Fahrenheit the value is :\",f)"
   ]
  },
  {
   "cell_type": "raw",
   "id": "22f84795-19f9-4e2b-904d-ec9109bf773f",
   "metadata": {},
   "source": [
    "TOPIC: String Based Questions"
   ]
  },
  {
   "cell_type": "raw",
   "id": "6d0296c7-a6ce-493b-b590-dfd3ff0b8afa",
   "metadata": {},
   "source": [
    "1. Write a Python program that takes a string as input and prints the\n",
    "length of the string."
   ]
  },
  {
   "cell_type": "code",
   "execution_count": 9,
   "id": "1c7c06f8-babe-44b7-a24f-510b9ab45ba2",
   "metadata": {},
   "outputs": [
    {
     "name": "stdin",
     "output_type": "stream",
     "text": [
      "Enter a String:  hem\n"
     ]
    },
    {
     "name": "stdout",
     "output_type": "stream",
     "text": [
      "The Lenght of the String is 3\n"
     ]
    }
   ],
   "source": [
    "s = input(\"Enter a String: \")\n",
    "print(\"The Lenght of the String is\",len(s))"
   ]
  },
  {
   "cell_type": "raw",
   "id": "883e4fb0-4bfc-47ac-bd72-8e445c29489a",
   "metadata": {},
   "source": [
    "2. Create a program that takes a sentence from the user and counts the\n",
    "number of vowels (a, e, i, o, u) in the string."
   ]
  },
  {
   "cell_type": "code",
   "execution_count": 25,
   "id": "5e059b06-18a6-4a31-8a59-7b0ba620d35d",
   "metadata": {},
   "outputs": [
    {
     "name": "stdin",
     "output_type": "stream",
     "text": [
      "Enter string: hemanth\n"
     ]
    },
    {
     "name": "stdout",
     "output_type": "stream",
     "text": [
      "The Number of vowels are:  2\n"
     ]
    }
   ],
   "source": [
    "string=input(\"Enter string:\")\n",
    "vowels=0\n",
    "for i in string:\n",
    "      if(i=='a' or i=='e' or i=='i' or i=='o' or i=='u' or i=='A' or i=='E' or i=='I' or i=='O' or i=='U'):\n",
    "            vowels=vowels+1\n",
    "print(\"The Number of vowels are: \",vowels)"
   ]
  },
  {
   "cell_type": "raw",
   "id": "4a27ec0f-ca0d-4022-a99c-6a01b3556e43",
   "metadata": {},
   "source": [
    "3. Given a string, reverse the order of characters using string slicing and\n",
    "print the reversed string."
   ]
  },
  {
   "cell_type": "code",
   "execution_count": 13,
   "id": "17219646-91bd-4fa5-b9ba-3801120d9753",
   "metadata": {},
   "outputs": [
    {
     "data": {
      "text/plain": [
       "'htnameH'"
      ]
     },
     "execution_count": 13,
     "metadata": {},
     "output_type": "execute_result"
    }
   ],
   "source": [
    "z = \"Hemanth\"\n",
    "z[::-1]"
   ]
  },
  {
   "cell_type": "raw",
   "id": "448687c0-bb19-4ffc-8653-265c3536757f",
   "metadata": {},
   "source": [
    "4. Write a program that takes a string as input and checks if it is a\n",
    "palindrome (reads the same forwards and backwards)."
   ]
  },
  {
   "cell_type": "code",
   "execution_count": 26,
   "id": "42d587a5-37dd-4aac-bc7a-bf58e99103f0",
   "metadata": {},
   "outputs": [
    {
     "name": "stdin",
     "output_type": "stream",
     "text": [
      "Enter a String : malayalam\n"
     ]
    },
    {
     "name": "stdout",
     "output_type": "stream",
     "text": [
      "It is a Palindrome\n"
     ]
    }
   ],
   "source": [
    "m = input(\"Enter a String :\")\n",
    "n = m[::-1]\n",
    "if (m==n):\n",
    "    print(\"It is a Palindrome\")\n",
    "else:\n",
    "    print(\"It is not a Palindrome\")"
   ]
  },
  {
   "cell_type": "raw",
   "id": "51496438-e7e8-485e-a849-bd49f118b601",
   "metadata": {},
   "source": [
    "5. Create a program that takes a string as input and removes all the\n",
    "spaces from it. Print the modified string without spaces."
   ]
  },
  {
   "cell_type": "code",
   "execution_count": 20,
   "id": "c37a522f-abc9-4364-ba36-08f0027f7b55",
   "metadata": {},
   "outputs": [
    {
     "name": "stdin",
     "output_type": "stream",
     "text": [
      "Enter a String H E M A N T H \n"
     ]
    },
    {
     "data": {
      "text/plain": [
       "'HEMANTH'"
      ]
     },
     "execution_count": 20,
     "metadata": {},
     "output_type": "execute_result"
    }
   ],
   "source": [
    "o = input(\"Enter a String\")\n",
    "o.replace(\" \",\"\")"
   ]
  },
  {
   "cell_type": "code",
   "execution_count": null,
   "id": "473e325a-f1ea-4e09-b4f8-c32ff67649b1",
   "metadata": {},
   "outputs": [],
   "source": []
  }
 ],
 "metadata": {
  "kernelspec": {
   "display_name": "Python 3 (ipykernel)",
   "language": "python",
   "name": "python3"
  },
  "language_info": {
   "codemirror_mode": {
    "name": "ipython",
    "version": 3
   },
   "file_extension": ".py",
   "mimetype": "text/x-python",
   "name": "python",
   "nbconvert_exporter": "python",
   "pygments_lexer": "ipython3",
   "version": "3.10.8"
  }
 },
 "nbformat": 4,
 "nbformat_minor": 5
}
